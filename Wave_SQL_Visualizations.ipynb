{
 "cells": [
  {
   "cell_type": "code",
   "execution_count": 31,
   "id": "5a69ce95",
   "metadata": {},
   "outputs": [],
   "source": [
    "import pandas as pd\n",
    "import matplotlib.pyplot as plt\n",
    "import seaborn as sns\n",
    "\n",
    "sns.set(style=\"whitegrid\")"
   ]
  },
  {
   "cell_type": "code",
   "execution_count": 32,
   "id": "5190521e",
   "metadata": {},
   "outputs": [],
   "source": [
    "# 1. Users & Transfers Overview\n",
    "users_transfers_data = {\n",
    "    \"Metric\": [\"Total Users\", \"Total Transfers\", \"Transfers in CFA\", \"Unique CFA Senders\"],\n",
    "    \"Count\": [12000, 85000, 35000, 8500]\n",
    "}\n",
    "df_users_transfers = pd.DataFrame(users_transfers_data)\n",
    "plt.figure(figsize=(8, 5))\n",
    "sns.barplot(x=\"Metric\", y=\"Count\", data=df_users_transfers, hue=\"Metric\", palette=\"bright\", legend=False)\n",
    "plt.title(\"Users & Transfers Overview\")\n",
    "plt.xticks(rotation=15)\n",
    "plt.tight_layout()\n",
    "plt.savefig(\"users_transfers_overview.png\")\n",
    "plt.close()"
   ]
  },
  {
   "cell_type": "markdown",
   "id": "c331d67b",
   "metadata": {},
   "source": [
    "![Users & Transfers Overview](users_transfers_overview.png)"
   ]
  },
  {
   "cell_type": "code",
   "execution_count": 33,
   "id": "2731279b",
   "metadata": {},
   "outputs": [],
   "source": [
    "# 2. Agent Transactions per Month\n",
    "months = [\"Jan\", \"Feb\", \"Mar\", \"Apr\", \"May\", \"Jun\", \n",
    "          \"Jul\", \"Aug\", \"Sep\", \"Oct\", \"Nov\", \"Dec\"]\n",
    "transactions = [8200, 7900, 8700, 9100, 8600, 8800, 9200, 9400, 9300, 9500, 9100, 9700]\n",
    "df_monthly = pd.DataFrame({\"Month\": months, \"Transactions\": transactions})\n",
    "plt.figure(figsize=(10, 5))\n",
    "sns.lineplot(x=\"Month\", y=\"Transactions\", data=df_monthly, marker=\"o\")\n",
    "plt.title(\"Agent Transactions per Month in 2018\")\n",
    "plt.tight_layout()\n",
    "plt.savefig(\"agent_transactions_monthly.png\")\n",
    "plt.close()"
   ]
  },
  {
   "cell_type": "markdown",
   "id": "afd641dd",
   "metadata": {},
   "source": [
    "![Agent Transactions per Month](agent_transactions_monthly.png)"
   ]
  },
  {
   "cell_type": "code",
   "execution_count": 34,
   "id": "fb85566c",
   "metadata": {},
   "outputs": [],
   "source": [
    "# 3. Net Agent Activity\n",
    "net_activity = pd.Series([120000, 150000], index=[\"Net Depositors\", \"Net Withdrawers\"])\n",
    "plt.figure(figsize=(6, 6))\n",
    "net_activity.plot.pie(autopct='%1.1f%%', colors=[\"#194acf\", \"#046b39\"])\n",
    "plt.title(\"Net Agent Activity Over Last Week\")\n",
    "plt.ylabel('')\n",
    "plt.tight_layout()\n",
    "plt.savefig(\"net_agent_activity.png\")\n",
    "plt.close()"
   ]
  },
  {
   "cell_type": "markdown",
   "id": "b7c7fd30",
   "metadata": {},
   "source": [
    "![Net Agent Activity](net_agent_activity.png)"
   ]
  },
  {
   "cell_type": "code",
   "execution_count": 35,
   "id": "d61d0de4",
   "metadata": {},
   "outputs": [],
   "source": [
    "# 4. City-wise Agent Transaction Volume\n",
    "cities = [\"Dakar\", \"Abidjan\", \"Bamako\", \"Conakry\"]\n",
    "volumes = [5000, 4300, 3200, 2800]\n",
    "df_city_volume = pd.DataFrame({\"City\": cities, \"Volume\": volumes})\n",
    "plt.figure(figsize=(8, 5))\n",
    "sns.barplot(y=\"City\", x=\"Volume\", data=df_city_volume, hue=\"City\", palette=\"Paired_r\", legend=False)\n",
    "plt.title(\"City-wise Agent Transaction Volume (Last Week)\")\n",
    "plt.tight_layout()\n",
    "plt.savefig(\"city_transaction_volume.png\")\n",
    "plt.close()"
   ]
  },
  {
   "cell_type": "markdown",
   "id": "a97bd4d8",
   "metadata": {},
   "source": [
    "![City-wise Transaction Volume](city_transaction_volume.png)"
   ]
  },
  {
   "cell_type": "code",
   "execution_count": 36,
   "id": "8fbc0b6b",
   "metadata": {},
   "outputs": [],
   "source": [
    "# 5. Send Volume by Country & Kind\n",
    "data_volume = {\n",
    "    \"Country\": [\"Senegal\", \"Senegal\", \"Senegal\", \"Ivory Coast\", \"Ivory Coast\", \"Ivory Coast\"],\n",
    "    \"Transfer Kind\": [\"P2P\", \"Bill Payment\", \"Wallet Top-up\", \"P2P\", \"Bill Payment\", \"Wallet Top-up\"],\n",
    "    \"Volume (M CFA)\": [8, 1, 2.5, 6, 1.2, 3]\n",
    "}\n",
    "df_volume = pd.DataFrame(data_volume)\n",
    "plt.figure(figsize=(10, 6))\n",
    "sns.barplot(x=\"Country\", y=\"Volume (M CFA)\", hue=\"Transfer Kind\", palette=\"plasma_r\", data=df_volume)\n",
    "plt.title(\"Send Volume by Country and Kind\")\n",
    "plt.tight_layout()\n",
    "plt.savefig(\"send_volume_country_kind.png\")\n",
    "plt.close()"
   ]
  },
  {
   "cell_type": "markdown",
   "id": "8d8314cb",
   "metadata": {},
   "source": [
    "![Send Volume by Country and Kind](send_volume_country_kind.png)"
   ]
  },
  {
   "cell_type": "code",
   "execution_count": 37,
   "id": "06c87ade",
   "metadata": {},
   "outputs": [],
   "source": [
    "# 6. High-Volume Wallets\n",
    "wallet_data = {\n",
    "    \"Wallet ID\": [\"W_1001\", \"W_1223\"],\n",
    "    \"User ID\": [\"U_023\", \"U_089\"],\n",
    "    \"Amount CFA Sent\": [12000000, 15500000]\n",
    "}\n",
    "df_wallets = pd.DataFrame(wallet_data)\n",
    "plt.figure(figsize=(8, 5))\n",
    "sns.barplot(x=\"Wallet ID\", y=\"Amount CFA Sent\", data=df_wallets, hue=\"Wallet ID\", palette=\"rocket\", legend=False)\n",
    "plt.title(\"High-Volume Wallets (CFA > 10M)\")\n",
    "plt.tight_layout()\n",
    "plt.savefig(\"high_volume_wallets.png\")\n",
    "plt.close()"
   ]
  },
  {
   "cell_type": "markdown",
   "id": "cebddc54",
   "metadata": {},
   "source": [
    "![High-Volume Wallets](high_volume_wallets.png)"
   ]
  }
 ],
 "metadata": {
  "kernelspec": {
   "display_name": "Python 3",
   "name": "python3"
  },
  "language_info": {
   "codemirror_mode": {
    "name": "ipython",
    "version": 3
   },
   "file_extension": ".py",
   "mimetype": "text/x-python",
   "name": "python",
   "nbconvert_exporter": "python",
   "pygments_lexer": "ipython3",
   "version": "3.12.1"
  }
 },
 "nbformat": 4,
 "nbformat_minor": 5
}
