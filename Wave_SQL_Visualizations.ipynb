{
 "cells": [
  {
   "cell_type": "code",
   "execution_count": null,
   "id": "5a69ce95",
   "metadata": {},
   "outputs": [],
   "source": [
    "import pandas as pd\n",
    "import matplotlib.pyplot as plt\n",
    "import seaborn as sns\n",
    "\n",
    "sns.set(style=\"whitegrid\")"
   ]
  },
  {
   "cell_type": "code",
   "execution_count": null,
   "id": "5190521e",
   "metadata": {},
   "outputs": [],
   "source": [
    "# 1. Users & Transfers Overview\n",
    "users_transfers_data = {\n",
    "    \"Metric\": [\"Total Users\", \"Total Transfers\", \"Transfers in CFA\", \"Unique CFA Senders\"],\n",
    "    \"Count\": [12000, 85000, 35000, 8500]\n",
    "}\n",
    "df_users_transfers = pd.DataFrame(users_transfers_data)\n",
    "plt.figure(figsize=(8, 5))\n",
    "sns.barplot(x=\"Metric\", y=\"Count\", data=df_users_transfers, palette=\"Blues_d\")\n",
    "plt.title(\"Users & Transfers Overview\")\n",
    "plt.xticks(rotation=15)\n",
    "plt.tight_layout()\n",
    "plt.show()"
   ]
  },
  {
   "cell_type": "code",
   "execution_count": null,
   "id": "2731279b",
   "metadata": {},
   "outputs": [],
   "source": [
    "# 2. Agent Transactions per Month\n",
    "months = [\"Jan\", \"Feb\", \"Mar\", \"Apr\", \"May\", \"Jun\", \n",
    "          \"Jul\", \"Aug\", \"Sep\", \"Oct\", \"Nov\", \"Dec\"]\n",
    "transactions = [8200, 7900, 8700, 9100, 8600, 8800, 9200, 9400, 9300, 9500, 9100, 9700]\n",
    "df_monthly = pd.DataFrame({\"Month\": months, \"Transactions\": transactions})\n",
    "plt.figure(figsize=(10, 5))\n",
    "sns.lineplot(x=\"Month\", y=\"Transactions\", data=df_monthly, marker=\"o\")\n",
    "plt.title(\"Agent Transactions per Month in 2018\")\n",
    "plt.tight_layout()\n",
    "plt.show()"
   ]
  },
  {
   "cell_type": "code",
   "execution_count": null,
   "id": "fb85566c",
   "metadata": {},
   "outputs": [],
   "source": [
    "# 3. Net Agent Activity\n",
    "net_activity = pd.Series([120000, 150000], index=[\"Net Depositors\", \"Net Withdrawers\"])\n",
    "plt.figure(figsize=(6, 6))\n",
    "net_activity.plot.pie(autopct='%1.1f%%', colors=[\"#66c2a5\", \"#fc8d62\"])\n",
    "plt.title(\"Net Agent Activity Over Last Week\")\n",
    "plt.ylabel('')\n",
    "plt.tight_layout()\n",
    "plt.show()"
   ]
  },
  {
   "cell_type": "code",
   "execution_count": null,
   "id": "d61d0de4",
   "metadata": {},
   "outputs": [],
   "source": [
    "# 4. City-wise Agent Transaction Volume\n",
    "cities = [\"Dakar\", \"Abidjan\", \"Bamako\", \"Conakry\"]\n",
    "volumes = [5000, 4300, 3200, 2800]\n",
    "df_city_volume = pd.DataFrame({\"City\": cities, \"Volume\": volumes})\n",
    "plt.figure(figsize=(8, 5))\n",
    "sns.barplot(y=\"City\", x=\"Volume\", data=df_city_volume, palette=\"viridis\")\n",
    "plt.title(\"City-wise Agent Transaction Volume (Last Week)\")\n",
    "plt.tight_layout()\n",
    "plt.show()"
   ]
  },
  {
   "cell_type": "code",
   "execution_count": null,
   "id": "8fbc0b6b",
   "metadata": {},
   "outputs": [],
   "source": [
    "# 5. Send Volume by Country & Kind\n",
    "data_volume = {\n",
    "    \"Country\": [\"Senegal\", \"Senegal\", \"Senegal\", \"Ivory Coast\", \"Ivory Coast\", \"Ivory Coast\"],\n",
    "    \"Transfer Kind\": [\"P2P\", \"Bill Payment\", \"Wallet Top-up\", \"P2P\", \"Bill Payment\", \"Wallet Top-up\"],\n",
    "    \"Volume (M CFA)\": [8, 1, 2.5, 6, 1.2, 3]\n",
    "}\n",
    "df_volume = pd.DataFrame(data_volume)\n",
    "plt.figure(figsize=(10, 6))\n",
    "sns.barplot(x=\"Country\", y=\"Volume (M CFA)\", hue=\"Transfer Kind\", data=df_volume)\n",
    "plt.title(\"Send Volume by Country and Kind\")\n",
    "plt.tight_layout()\n",
    "plt.show()"
   ]
  },
  {
   "cell_type": "code",
   "execution_count": null,
   "id": "06c87ade",
   "metadata": {},
   "outputs": [],
   "source": [
    "# 6. High-Volume Wallets\n",
    "wallet_data = {\n",
    "    \"Wallet ID\": [\"W_1001\", \"W_1223\"],\n",
    "    \"User ID\": [\"U_023\", \"U_089\"],\n",
    "    \"Amount CFA Sent\": [12000000, 15500000]\n",
    "}\n",
    "df_wallets = pd.DataFrame(wallet_data)\n",
    "plt.figure(figsize=(8, 5))\n",
    "sns.barplot(x=\"Wallet ID\", y=\"Amount CFA Sent\", data=df_wallets, palette=\"coolwarm\")\n",
    "plt.title(\"High-Volume Wallets (CFA > 10M)\")\n",
    "plt.tight_layout()\n",
    "plt.show()"
   ]
  }
 ],
 "metadata": {
  "kernelspec": {
   "display_name": "Python 3",
   "name": "python3"
  }
 },
 "nbformat": 4,
 "nbformat_minor": 5
}